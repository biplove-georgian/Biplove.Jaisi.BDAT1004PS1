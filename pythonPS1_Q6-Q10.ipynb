{
 "cells": [
  {
   "cell_type": "markdown",
   "metadata": {},
   "source": [
    "# Question 6 Python\n",
    "\n",
    "#### You can turn a word into pig-Latin using the following two rules (simplified):\n",
    "- If the word starts with a consonant, move that letter to the end and append 'ay'. For example, 'happy' becomes 'appyhay' and 'pencil' becomes 'encilpay'.\n",
    "- If the word starts with a vowel, simply append 'way' to the end of the word. For example, 'enter' becomes 'enterway' and 'other' becomes 'otherway' . For our purposes, there are 5 vowels: a, e, i, o, u (so we count y as a consonant).\n",
    "\n",
    "#### Write a function pig() that takes a word (i.e., a string) as input and returns its pigLatin form. Your function should still work if the input word contains upper case characters. Your output should always be lower case however.\n",
    "pig('happy') <br>\n",
    "'appyhay'<br><br>\n",
    "pig('Enter')<br>\n",
    "'enterway'"
   ]
  },
  {
   "cell_type": "markdown",
   "metadata": {},
   "source": []
  },
  {
   "cell_type": "code",
   "execution_count": 1,
   "metadata": {},
   "outputs": [
    {
     "name": "stdout",
     "output_type": "stream",
     "text": [
      "appyhay\n"
     ]
    }
   ],
   "source": [
    "input_word = input(\"Enter a word: \")\n",
    "\n",
    "def pig(input_word):\n",
    "    # Convert the input_word to lowercase to handle uppercase characters\n",
    "    input_word = input_word.lower()\n",
    "\n",
    "    # Check if the input_word starts with a vowel\n",
    "    if input_word[0] in ['a', 'e', 'i', 'o', 'u']:\n",
    "        return input_word + 'way'\n",
    "    else:\n",
    "        return input_word[1:] + input_word[0] + 'ay'\n",
    "\n",
    "\n",
    "print(pig(input_word))\n"
   ]
  },
  {
   "cell_type": "markdown",
   "metadata": {},
   "source": [
    "# Question 7 Python\n",
    "\n",
    "#### File bloodtype1.txt records blood-types of patients (A, B, AB, O or OO) at a clinic. Write a function bldcount() that reads the file with name name and reports (i.e. prints) how many patients there are in each bloodtype.\n",
    "bldcount('bloodtype.txt')<br><br>\n",
    "There are 10 patients of blood type A.<br>\n",
    "There is one patient of blood type B.<br>\n",
    "There are 10 patients of blood type AB.<br>\n",
    "There are 12 patients of blood type O.<br>\n",
    "There are no patients of blood type OO."
   ]
  },
  {
   "cell_type": "code",
   "execution_count": 4,
   "metadata": {},
   "outputs": [
    {
     "name": "stdout",
     "output_type": "stream",
     "text": [
      "There are 15 patients of blood type A\n",
      "There are 1 patients of blood type B\n",
      "There are 13 patients of blood type AB\n",
      "There are 15 patients of blood type O\n",
      "There are 0 patients of blood type OO\n"
     ]
    }
   ],
   "source": [
    "def bldcount(name):\n",
    "    # Initialize a dictionary to store the count of each blood type\n",
    "    blood_type_count = {\n",
    "                        'A': 0, \n",
    "                        'B': 0,\n",
    "                        'AB': 0,\n",
    "                        'O': 0, \n",
    "                        'OO': 0\n",
    "                        }\n",
    "    try:\n",
    "        # Open the file for reading\n",
    "        with open(name, 'r') as file:\n",
    "            # Read each line in the file\n",
    "            for line in file:\n",
    "                # Removing leading and trailing whitespaces, converting to uppercase and splitting\n",
    "                blood_type_list = line.strip().upper().split()\n",
    "            for blood_type in blood_type_list:\n",
    "                # Check if the blood type is valid\n",
    "                if blood_type in blood_type_count:\n",
    "                    # Increment the count for the corresponding blood type\n",
    "                    blood_type_count[blood_type] += 1\n",
    "                else:\n",
    "                    print(f\"Invalid blood type: {blood_type}\")\n",
    "        # Print the count for each blood type\n",
    "        for blood_type, count in blood_type_count.items():\n",
    "            print(f\"There are {count} patients of blood type {blood_type}\")\n",
    "    except FileNotFoundError:\n",
    "        print(f\"File '{name}' not found.\")\n",
    "    except Exception as e:\n",
    "        print(f\"An error occurred: {str(e)}\")\n",
    "\n",
    "# Calling the function with the file name 'bloodtype1.txt'\n",
    "bldcount('bloodtype1.txt')"
   ]
  },
  {
   "cell_type": "markdown",
   "metadata": {},
   "source": [
    "# Question 8 Python\n",
    "\n",
    "#### Write a function curconv() that takes as input:\n",
    "1. a currency represented using a string (e.g., 'JPY' for the Japanese Yen or\n",
    "'EUR' for the Euro)\n",
    "2. an amount\n",
    "and then converts and returns the amount in US dollars."
   ]
  },
  {
   "cell_type": "code",
   "execution_count": 5,
   "metadata": {},
   "outputs": [
    {
     "name": "stdout",
     "output_type": "stream",
     "text": [
      "122.96544\n"
     ]
    }
   ],
   "source": [
    "input_of_currency = input(\"Enter the currency in which you want to convert: \")\n",
    "amount = float(input(\"Enter amount: \"))\n",
    "\n",
    "def curconv(currency, amount):\n",
    "    # Initialization of an empty dictionary to store currency rates\n",
    "    rate_of_currencies = {}\n",
    "\n",
    "    # Read currency rates from the 'currencies.txt' file\n",
    "    with open('currencies.txt', 'r') as file:\n",
    "        for line in file:\n",
    "            individual_cols = line.split()\n",
    "            # Extract the currency code (e.g., 'EUR') and the conversion rate\n",
    "            currency_code = individual_cols[0]\n",
    "            conversion_rate = float(individual_cols[1])\n",
    "            rate_of_currencies[currency_code] = conversion_rate\n",
    "    # Check if the input currency is in the dictionary\n",
    "    if currency in rate_of_currencies:\n",
    "        conversion_rate = rate_of_currencies[currency]\n",
    "        converted_amount = amount * conversion_rate\n",
    "        return converted_amount\n",
    "    else:\n",
    "        return \"Currency not found in the files where rate of currencies are stored.\"\n",
    "    \n",
    "\n",
    "print(curconv(input_of_currency, amount))\n"
   ]
  },
  {
   "cell_type": "markdown",
   "metadata": {},
   "source": [
    "# Question 9 Python\n",
    "\n",
    "#### Each of the following will cause an exception (an error). Identify what type of exception each will cause."
   ]
  },
  {
   "cell_type": "markdown",
   "metadata": {},
   "source": [
    "1. Trying to add incompatible variables, as in adding 6 + 'a':<br>\n",
    "   This will cause a `TypeError` because we can't directly add an integer `6` and a string `'a'` together.\n",
    "\n",
    "2. Referring to the 12th item of a list that has only 10 items:<br>\n",
    "   This will cause an `IndexError` because we are trying to access an index `12` that is beyond the range of the list (which only contains 10 items).\n",
    "\n",
    "3. Using a value that is out of range for a function's input, such as calling `math.sqrt(-1.0)`:<br>\n",
    "   This will cause a `ValueError` because the `math.sqrt` function expects a non-negative number as its argument, and attempting to take the square root of a negative number is mathematically undefined.\n",
    "\n",
    "4. Using an undeclared variable, such as `print(x)` when `x` has not been defined:<br>\n",
    "   This will cause a `NameError` because Python does not know what `x` is since it has not been declared or assigned a value before trying to use it.\n",
    "   \n",
    "5. Trying to open a file that does not exist, such as mistyping the file name or looking in the wrong directory:<br>\n",
    "   This will cause a `FileNotFoundError` if the file we are trying to open does not exist in the specified location.\n"
   ]
  },
  {
   "cell_type": "markdown",
   "metadata": {},
   "source": [
    "# Question 10 Python\n",
    "\n",
    "#### Encryption is the process of hiding the meaning of a text by substituting letters in the message with other letters, according to some system. If the process is successful, no one but the intended recipient can understand the encrypted message. Cryptanalysis refers to attempts to undo the encryption, even if some details of the encryption are unknown (for example, if an encrypted message has been intercepted). The first step of cryptanalysis is often to build up a table of letter frequencies in the encrypted text. Assume that the string letters is already defined as 'abcdefghijklmnopqrstuvwxyz'. Write a function called frequencies() that takes a string as its only parameter, and returns a list of integers, showing the number of times each character appears in the text. Your function may ignore any characters that are not in letters.<br>\n",
    "frequencies('The quick red fox got bored and went home.')<br>\n",
    "[1, 1, 1, 3, 5, 1, 1, 2, 1, 0, 1, 0, 1, 2, 4, 0, 1, 2, 0, 2, 1, 0, 1, 1, 0, 0]"
   ]
  },
  {
   "cell_type": "code",
   "execution_count": 6,
   "metadata": {},
   "outputs": [
    {
     "name": "stdout",
     "output_type": "stream",
     "text": [
      "[3, 0, 1, 2, 3, 1, 2, 1, 1, 0, 0, 2, 3, 1, 5, 1, 0, 3, 0, 3, 0, 0, 2, 0, 0, 0]\n"
     ]
    }
   ],
   "source": [
    "def frequencies(input_string):\n",
    "    # Define the list to store character frequencies (initially all zeros)\n",
    "    letter_frequencies = [0] * 26\n",
    "    \n",
    "    # Convert the input string to lowercase to handle case-insensitive counting\n",
    "    input_string = input_string.lower()\n",
    "    \n",
    "    # Iterate over each character in the input string\n",
    "    for char in input_string:\n",
    "        # Check if the character is in the 'letters' string\n",
    "        if char in 'abcdefghijklmnopqrstuvwxyz':\n",
    "            # Calculate the index of the character in the 'letters' string\n",
    "            index = ord(char) - ord('a')\n",
    "            \n",
    "            # Increment the corresponding frequency count\n",
    "            letter_frequencies[index] += 1\n",
    "    \n",
    "    return letter_frequencies\n",
    "\n",
    "input_string = input(\"Enter a string: \")\n",
    "output = frequencies(input_string)\n",
    "print(output)\n"
   ]
  }
 ],
 "metadata": {
  "kernelspec": {
   "display_name": "my_env",
   "language": "python",
   "name": "python3"
  },
  "language_info": {
   "codemirror_mode": {
    "name": "ipython",
    "version": 3
   },
   "file_extension": ".py",
   "mimetype": "text/x-python",
   "name": "python",
   "nbconvert_exporter": "python",
   "pygments_lexer": "ipython3",
   "version": "3.11.4"
  }
 },
 "nbformat": 4,
 "nbformat_minor": 2
}
