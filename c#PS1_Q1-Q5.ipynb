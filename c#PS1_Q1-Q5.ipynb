{
 "cells": [
  {
   "cell_type": "markdown",
   "metadata": {},
   "source": [
    "# Question 1 C#\n",
    "#### What data type is each of the following?"
   ]
  },
  {
   "cell_type": "code",
   "execution_count": 2,
   "metadata": {
    "vscode": {
     "languageId": "polyglot-notebook"
    }
   },
   "outputs": [],
   "source": [
    "\n",
    "// 5.0 (double Data Type)\n",
    "\n",
    "// 5 > 1 (True/False; Boolean Data Type)\n",
    "\n",
    "// '5' (Char Data Type)\n",
    "\n",
    "// 5 * 2 (10; Integer Data Type)\n",
    "\n",
    "// '5' * 2 ('55'; String Data Type)\n",
    "\n",
    "// '5' + '2' ('52'; String Data Type)\n",
    "\n",
    "// 5 / 2 (2; Integer Data Type)\n",
    "\n",
    "// 5 % 2 (1; Integer Data Type)\n",
    "\n",
    "// {5, 2, 1} (Array Data Type)\n",
    "\n",
    "// 5 == 3 (Boolean Data Type)\n",
    "\n",
    "// Pi (the number) (approximately 3.14; double Data Type)"
   ]
  },
  {
   "cell_type": "markdown",
   "metadata": {},
   "source": [
    "# Question 2 C#\n",
    "\n",
    "#### Write (and evaluate) C# expressions that answer these questions:\n",
    "- a. How many letters are there in 'Supercalifragilisticexpialidocious'?\n",
    "- b. Does 'Supercalifragilisticexpialidocious' contain 'ice' as a substring? \n",
    "- c. Which of the following words is the longest:\n",
    "Supercalifragilisticexpialidocious, Honorificabilitudinitatibus, or\n",
    "Bababadalgharaghtakamminarronnkonn?\n",
    "- d. Which composer comes first in the dictionary: 'Berlioz', 'Borodin', 'Brian',\n",
    "'Bartok', 'Bellini', 'Buxtehude', 'Bernstein'. Which one comes last?"
   ]
  },
  {
   "cell_type": "code",
   "execution_count": 4,
   "metadata": {
    "vscode": {
     "languageId": "polyglot-notebook"
    }
   },
   "outputs": [
    {
     "name": "stdout",
     "output_type": "stream",
     "text": [
      "Number of letters in Supercalifragilisticexpialidocious: 34\n",
      "Yes! Substring is found at index 18\n",
      "The longest string is Bababadalgharaghtakamminarronnkonn\n",
      "The word that comes first in the dictionary: Bartok\n",
      "The word that comes last in the dictionary: Buxtehude\n"
     ]
    }
   ],
   "source": [
    "// 2a\n",
    "\n",
    "string given_string = \"Supercalifragilisticexpialidocious\";\n",
    "Console.WriteLine($\"Number of letters in {given_string}: {given_string.Length}\");\n",
    "\n",
    "\n",
    "// 2b\n",
    "\n",
    "string pattern = \"ice\";\n",
    "\n",
    "int index = FindSubstring(given_string, pattern);\n",
    "\n",
    "if (index != -1)\n",
    "    Console.WriteLine($\"Yes! Substring is found at index {index}\");\n",
    "else\n",
    "    Console.WriteLine(\"Substring not found\");\n",
    "\n",
    "\n",
    "static int FindSubstring(string given_string, string pattern)\n",
    "{\n",
    "    int given_string_length = given_string.Length;\n",
    "    int pattern_length = pattern.Length;\n",
    "\n",
    "    for (int i = 0; i <= given_string_length - pattern_length; i++)\n",
    "    {\n",
    "        int j;\n",
    "        for (j = 0; j < pattern_length; j++)\n",
    "        {\n",
    "            if (given_string[i + j] != pattern[j])\n",
    "                break;\n",
    "        }\n",
    "\n",
    "        if (j == pattern_length)\n",
    "            return i; // Match found\n",
    "    }\n",
    "\n",
    "    return -1; // No match found\n",
    "}\n",
    "\n",
    "\n",
    "// 2c\n",
    "\n",
    "string given_word1 = \"Supercalifragilisticexpialidocious\";\n",
    "string given_word2 = \" Honorificabilitudinitatibus\";\n",
    "string given_word3 = \"Bababadalgharaghtakamminarronnkonn\";\n",
    "\n",
    "int given_word1_length = given_word1.Length;\n",
    "int given_word2_length = given_word2.Length;\n",
    "int given_word3_length = given_word3.Length;\n",
    "\n",
    "if (given_word1_length > given_word2_length && given_word1_length > given_word3_length)\n",
    "    Console.WriteLine($\"The longest string is {given_word1}\");\n",
    "else if (given_word2_length > given_word1_length && given_word2_length > given_word3_length)\n",
    "    Console.WriteLine($\"The longest string is {given_word2}\");\n",
    "else\n",
    "    Console.WriteLine($\"The longest string is {given_word3}\");\n",
    "\n",
    "\n",
    "// 2d\n",
    "\n",
    "string[] given_composer_array = {\"Berlioz\", \"Borodin\", \"Brian\",\n",
    "                                \"Bartok\", \"Bellini\", \"Buxtehude\", \"Bernstein\"};\n",
    "Array.Sort(given_composer_array);\n",
    "Console.WriteLine($\"The word that comes first in the dictionary: {given_composer_array[0]}\");\n",
    "Console.WriteLine($\"The word that comes last in the dictionary: {given_composer_array[given_composer_array.Length - 1]}\");\n",
    "\n"
   ]
  },
  {
   "cell_type": "markdown",
   "metadata": {},
   "source": [
    "# Queston 3 C#\n",
    "\n",
    "#### Implement function triangleArea(a,b,c) that takes as input the lengths of the 3 sides of a triangle and returns the area of the triangle. By Heron's formula, the area of a triangle with side lengths a, b, and c is s(s - a)(s -b)(s -c), where s = (a+b+c)/2. "
   ]
  },
  {
   "cell_type": "code",
   "execution_count": 6,
   "metadata": {
    "vscode": {
     "languageId": "polyglot-notebook"
    }
   },
   "outputs": [
    {
     "name": "stdout",
     "output_type": "stream",
     "text": [
      "Length of first side of triangle(a): "
     ]
    },
    {
     "ename": "Error",
     "evalue": "System.FormatException: The input string '{\"commandType\":\"RequestHoverText\",\"command\":{\"code\":\"Console.Write(\\\"Number of elements to be stored in the Array: \\\");\\nint number_of_elements = int.Parse(Console.ReadLine());\\n\\nint[] array_of_numbers = new int[number_of_elements];\\nint[] array_of_even_numbers = new int[number_of_elements];\\nint[] array_of_odd_numbers = new int[number_of_elements];\\n\\nConsole.WriteLine($\\\"Input {number_of_elements} elements in the Array: \\\");\\n\\nfor(int i=0; i<number_of_elements; i++)\\n{\\n    Console.Write($\\\"element - {i}: \\\");\\n    array_of_numbers[i] = int.Parse(Console.ReadLine());\\n}\\n\\nint count_of_even_numbers = 0;\\nint count_of_odd_numbers = 0;\\n\\nforeach(int i in array_of_numbers)\\n{\\n    if (i % 2 == 0)\\n    {\\n        array_of_even_numbers[count_of_even_numbers] = i;\\n        count_of_even_numbers++;\\n    }\\n    else\\n    {\\n        array_of_odd_numbers[count_of_odd_numbers] = i;\\n        count_of_odd_numbers++;\\n    }        \\n}\\n\\n\\nConsole.WriteLine(\\\"The Even elements are: \\\");\\nfor(int i=0; i<count_of_even_numbers; i++)\\n{\\n    Console.Write(array_of_even_numbers[i] + \\\" \\\");\\n}\\n\\nConsole.Write(\\\"\\\\n\\\");\\n\\nConsole.WriteLine(\\\"The Odd elements are: \\\");\\nfor(int i=0; i<count_of_odd_numbers; i++)\\n{\\n    Console.Write(array_of_odd_numbers[i] + \\\" \\\");\\n}\\n\",\"linePosition\":{\"line\":11,\"character\":37},\"targetKernelName\":\"csharp\"},\"routingSlip\":[],\"id\":\"AXhRjhzwRpC6nDZbn3XsdA==\",\"token\":\"Y2M57WEuSCyqaPwHx3tHJg==\"}' was not in a correct format.\n   at System.Number.ThrowOverflowOrFormatException(ParsingStatus status, ReadOnlySpan`1 value, TypeCode type)\n   at System.Double.Parse(String s)\n   at Submission#7.<<Initialize>>d__0.MoveNext()\n--- End of stack trace from previous location ---\n   at Microsoft.CodeAnalysis.Scripting.ScriptExecutionState.RunSubmissionsAsync[TResult](ImmutableArray`1 precedingExecutors, Func`2 currentExecutor, StrongBox`1 exceptionHolderOpt, Func`2 catchExceptionOpt, CancellationToken cancellationToken)",
     "output_type": "error",
     "traceback": [
      "System.FormatException: The input string '{\"commandType\":\"RequestHoverText\",\"command\":{\"code\":\"Console.Write(\\\"Number of elements to be stored in the Array: \\\");\\nint number_of_elements = int.Parse(Console.ReadLine());\\n\\nint[] array_of_numbers = new int[number_of_elements];\\nint[] array_of_even_numbers = new int[number_of_elements];\\nint[] array_of_odd_numbers = new int[number_of_elements];\\n\\nConsole.WriteLine($\\\"Input {number_of_elements} elements in the Array: \\\");\\n\\nfor(int i=0; i<number_of_elements; i++)\\n{\\n    Console.Write($\\\"element - {i}: \\\");\\n    array_of_numbers[i] = int.Parse(Console.ReadLine());\\n}\\n\\nint count_of_even_numbers = 0;\\nint count_of_odd_numbers = 0;\\n\\nforeach(int i in array_of_numbers)\\n{\\n    if (i % 2 == 0)\\n    {\\n        array_of_even_numbers[count_of_even_numbers] = i;\\n        count_of_even_numbers++;\\n    }\\n    else\\n    {\\n        array_of_odd_numbers[count_of_odd_numbers] = i;\\n        count_of_odd_numbers++;\\n    }        \\n}\\n\\n\\nConsole.WriteLine(\\\"The Even elements are: \\\");\\nfor(int i=0; i<count_of_even_numbers; i++)\\n{\\n    Console.Write(array_of_even_numbers[i] + \\\" \\\");\\n}\\n\\nConsole.Write(\\\"\\\\n\\\");\\n\\nConsole.WriteLine(\\\"The Odd elements are: \\\");\\nfor(int i=0; i<count_of_odd_numbers; i++)\\n{\\n    Console.Write(array_of_odd_numbers[i] + \\\" \\\");\\n}\\n\",\"linePosition\":{\"line\":11,\"character\":37},\"targetKernelName\":\"csharp\"},\"routingSlip\":[],\"id\":\"AXhRjhzwRpC6nDZbn3XsdA==\",\"token\":\"Y2M57WEuSCyqaPwHx3tHJg==\"}' was not in a correct format.\n",
      "   at System.Number.ThrowOverflowOrFormatException(ParsingStatus status, ReadOnlySpan`1 value, TypeCode type)\n",
      "   at System.Double.Parse(String s)\n",
      "   at Submission#7.<<Initialize>>d__0.MoveNext()\n",
      "--- End of stack trace from previous location ---\n",
      "   at Microsoft.CodeAnalysis.Scripting.ScriptExecutionState.RunSubmissionsAsync[TResult](ImmutableArray`1 precedingExecutors, Func`2 currentExecutor, StrongBox`1 exceptionHolderOpt, Func`2 catchExceptionOpt, CancellationToken cancellationToken)"
     ]
    }
   ],
   "source": [
    "Console.Write(\"Length of first side of triangle(a): \");\n",
    "double a = double.Parse(Console.ReadLine());\n",
    "\n",
    "Console.Write(\"Length of second side of triangle(b): \");\n",
    "double b = double.Parse(Console.ReadLine());\n",
    "\n",
    "Console.Write(\"Length of third side of triangle(c): \");\n",
    "double c = double.Parse(Console.ReadLine());\n",
    "\n",
    "double triangleArea(double a, double b, double c)\n",
    "{\n",
    "    double s = (a + b + c) / 2;\n",
    "    double area_of_triangle = (double) Math.Sqrt((s * (s - a) * (s - b) * (s - c)));\n",
    "    return area_of_triangle;\n",
    "}\n",
    "\n",
    "Console.WriteLine($\"Area of Triangle: {triangleArea(a,b,c)}\");\n"
   ]
  },
  {
   "cell_type": "markdown",
   "metadata": {},
   "source": [
    "##### Eventhough it is throwing an error in notebook, I am getting an output in visual studio code."
   ]
  },
  {
   "cell_type": "markdown",
   "metadata": {},
   "source": [
    "# Question 4 C#\n",
    "\n",
    "#### Write a program in C# Sharp to separate odd and even integers in separate arrays.\n",
    "Go to the editor <br>\n",
    "Test Data : <br>\n",
    "Input the number of elements to be stored in the array :5 <br>\n",
    "Input 5 elements in the array :<br>\n",
    "element - 0 : 25<br>\n",
    "element - 1 : 47<br>\n",
    "element - 2 : 42<br>\n",
    "element - 3 : 56<br>\n",
    "element - 4 : 32<br>\n",
    "Expected Output:<br>\n",
    "The Even elements are:<br>\n",
    "42 56 32<br>\n",
    "The Odd elements are :<br>\n",
    "25 47<br>"
   ]
  },
  {
   "cell_type": "code",
   "execution_count": 7,
   "metadata": {
    "vscode": {
     "languageId": "polyglot-notebook"
    }
   },
   "outputs": [
    {
     "name": "stdout",
     "output_type": "stream",
     "text": [
      "Number of elements to be stored in the Array: "
     ]
    },
    {
     "ename": "Error",
     "evalue": "System.FormatException: The input string '{\"commandType\":\"RequestHoverText\",\"command\":{\"code\":\"Console.Write(\\\"Number of elements to be stored in the Array: \\\");\\nint number_of_elements = int.Parse(Console.ReadLine());\\n\\nint[] array_of_numbers = new int[number_of_elements];\\nint[] array_of_even_numbers = new int[number_of_elements];\\nint[] array_of_odd_numbers = new int[number_of_elements];\\n\\nConsole.WriteLine($\\\"Input {number_of_elements} elements in the Array: \\\");\\n\\nfor(int i=0; i<number_of_elements; i++)\\n{\\n    Console.Write($\\\"element - {i}: \\\");\\n    array_of_numbers[i] = int.Parse(Console.ReadLine());\\n}\\n\\nint count_of_even_numbers = 0;\\nint count_of_odd_numbers = 0;\\n\\nforeach(int i in array_of_numbers)\\n{\\n    if (i % 2 == 0)\\n    {\\n        array_of_even_numbers[count_of_even_numbers] = i;\\n        count_of_even_numbers++;\\n    }\\n    else\\n    {\\n        array_of_odd_numbers[count_of_odd_numbers] = i;\\n        count_of_odd_numbers++;\\n    }        \\n}\\n\\n\\nConsole.WriteLine(\\\"The Even elements are: \\\");\\nfor(int i=0; i<count_of_even_numbers; i++)\\n{\\n    Console.Write(array_of_even_numbers[i] + \\\" \\\");\\n}\\n\\nConsole.Write(\\\"\\\\n\\\");\\n\\nConsole.WriteLine(\\\"The Odd elements are: \\\");\\nfor(int i=0; i<count_of_odd_numbers; i++)\\n{\\n    Console.Write(array_of_odd_numbers[i] + \\\" \\\");\\n}\\n\",\"linePosition\":{\"line\":42,\"character\":25},\"targetKernelName\":\"csharp\"},\"routingSlip\":[],\"id\":\"23sbFn+4TaaHLh3tl6+CGg==\",\"token\":\"QoESjKMcRz28L7v+cI4LYw==\"}' was not in a correct format.\n   at System.Number.ThrowOverflowOrFormatException(ParsingStatus status, ReadOnlySpan`1 value, TypeCode type)\n   at System.Number.ParseInt32(ReadOnlySpan`1 value, NumberStyles styles, NumberFormatInfo info)\n   at System.Int32.Parse(String s)\n   at Submission#8.<<Initialize>>d__0.MoveNext()\n--- End of stack trace from previous location ---\n   at Microsoft.CodeAnalysis.Scripting.ScriptExecutionState.RunSubmissionsAsync[TResult](ImmutableArray`1 precedingExecutors, Func`2 currentExecutor, StrongBox`1 exceptionHolderOpt, Func`2 catchExceptionOpt, CancellationToken cancellationToken)",
     "output_type": "error",
     "traceback": [
      "System.FormatException: The input string '{\"commandType\":\"RequestHoverText\",\"command\":{\"code\":\"Console.Write(\\\"Number of elements to be stored in the Array: \\\");\\nint number_of_elements = int.Parse(Console.ReadLine());\\n\\nint[] array_of_numbers = new int[number_of_elements];\\nint[] array_of_even_numbers = new int[number_of_elements];\\nint[] array_of_odd_numbers = new int[number_of_elements];\\n\\nConsole.WriteLine($\\\"Input {number_of_elements} elements in the Array: \\\");\\n\\nfor(int i=0; i<number_of_elements; i++)\\n{\\n    Console.Write($\\\"element - {i}: \\\");\\n    array_of_numbers[i] = int.Parse(Console.ReadLine());\\n}\\n\\nint count_of_even_numbers = 0;\\nint count_of_odd_numbers = 0;\\n\\nforeach(int i in array_of_numbers)\\n{\\n    if (i % 2 == 0)\\n    {\\n        array_of_even_numbers[count_of_even_numbers] = i;\\n        count_of_even_numbers++;\\n    }\\n    else\\n    {\\n        array_of_odd_numbers[count_of_odd_numbers] = i;\\n        count_of_odd_numbers++;\\n    }        \\n}\\n\\n\\nConsole.WriteLine(\\\"The Even elements are: \\\");\\nfor(int i=0; i<count_of_even_numbers; i++)\\n{\\n    Console.Write(array_of_even_numbers[i] + \\\" \\\");\\n}\\n\\nConsole.Write(\\\"\\\\n\\\");\\n\\nConsole.WriteLine(\\\"The Odd elements are: \\\");\\nfor(int i=0; i<count_of_odd_numbers; i++)\\n{\\n    Console.Write(array_of_odd_numbers[i] + \\\" \\\");\\n}\\n\",\"linePosition\":{\"line\":42,\"character\":25},\"targetKernelName\":\"csharp\"},\"routingSlip\":[],\"id\":\"23sbFn+4TaaHLh3tl6+CGg==\",\"token\":\"QoESjKMcRz28L7v+cI4LYw==\"}' was not in a correct format.\n",
      "   at System.Number.ThrowOverflowOrFormatException(ParsingStatus status, ReadOnlySpan`1 value, TypeCode type)\n",
      "   at System.Number.ParseInt32(ReadOnlySpan`1 value, NumberStyles styles, NumberFormatInfo info)\n",
      "   at System.Int32.Parse(String s)\n",
      "   at Submission#8.<<Initialize>>d__0.MoveNext()\n",
      "--- End of stack trace from previous location ---\n",
      "   at Microsoft.CodeAnalysis.Scripting.ScriptExecutionState.RunSubmissionsAsync[TResult](ImmutableArray`1 precedingExecutors, Func`2 currentExecutor, StrongBox`1 exceptionHolderOpt, Func`2 catchExceptionOpt, CancellationToken cancellationToken)"
     ]
    }
   ],
   "source": [
    "Console.Write(\"Number of elements to be stored in the Array: \");\n",
    "int number_of_elements = int.Parse(Console.ReadLine());\n",
    "\n",
    "int[] array_of_numbers = new int[number_of_elements];\n",
    "int[] array_of_even_numbers = new int[number_of_elements];\n",
    "int[] array_of_odd_numbers = new int[number_of_elements];\n",
    "\n",
    "Console.WriteLine($\"Input {number_of_elements} elements in the Array: \");\n",
    "\n",
    "for(int i=0; i<number_of_elements; i++)\n",
    "{\n",
    "    Console.Write($\"element - {i}: \");\n",
    "    array_of_numbers[i] = int.Parse(Console.ReadLine());\n",
    "}\n",
    "\n",
    "int count_of_even_numbers = 0;\n",
    "int count_of_odd_numbers = 0;\n",
    "\n",
    "foreach(int i in array_of_numbers)\n",
    "{\n",
    "    if (i % 2 == 0)\n",
    "    {\n",
    "        array_of_even_numbers[count_of_even_numbers] = i;\n",
    "        count_of_even_numbers++;\n",
    "    }\n",
    "    else\n",
    "    {\n",
    "        array_of_odd_numbers[count_of_odd_numbers] = i;\n",
    "        count_of_odd_numbers++;\n",
    "    }        \n",
    "}\n",
    "\n",
    "\n",
    "Console.WriteLine(\"The Even elements are: \");\n",
    "for(int i=0; i<count_of_even_numbers; i++)\n",
    "{\n",
    "    Console.Write(array_of_even_numbers[i] + \" \");\n",
    "}\n",
    "\n",
    "Console.Write(\"\\n\");\n",
    "\n",
    "Console.WriteLine(\"The Odd elements are: \");\n",
    "for(int i=0; i<count_of_odd_numbers; i++)\n",
    "{\n",
    "    Console.Write(array_of_odd_numbers[i] + \" \");\n",
    "}\n"
   ]
  },
  {
   "cell_type": "markdown",
   "metadata": {},
   "source": [
    "##### Eventhough it is throwing an error in notebook, I am getting an output in visual studio code."
   ]
  },
  {
   "cell_type": "markdown",
   "metadata": {},
   "source": [
    "# Question 5 C#\n",
    "\n",
    "#### a. Write a function inside(x,y,x1,y1,x2,y2) that returns True or False depending on whether the point (x,y) lies in the rectangle with lower left corner (x1,y1) and upper right corner (x2,y2). <br>\n",
    "inside(1,1,0,0,2,3) <br>\n",
    "True <br>\n",
    "inside(-1,-1,0,0,2,3) <br>\n",
    "False <br>\n",
    "#### b. Use function inside() from part a. to write an expression that tests whether the point (1,1) lies in both of the following rectangles: one with lower left corner (0.3, 0.5) and upper right corner (1.1, 0.7) and the other with lower left corner (0.5, 0.2) and upper right corner (1.1, 2). "
   ]
  },
  {
   "cell_type": "code",
   "execution_count": 8,
   "metadata": {
    "vscode": {
     "languageId": "polyglot-notebook"
    }
   },
   "outputs": [
    {
     "name": "stdout",
     "output_type": "stream",
     "text": [
      "(1,1) doesn't lie in both of the given rectangles..\n"
     ]
    }
   ],
   "source": [
    "Boolean inside(double x, double y, double x1, double y1, double x2, double y2)\n",
    "{\n",
    "    double lower_left_corner_x = x - x1;\n",
    "    double lower_left_corner_y = y - y1;\n",
    "    double upper_right_corner_x = x2 - x;\n",
    "    double upper_right_corner_y = y2 - y;\n",
    "    bool check = false;\n",
    "\n",
    "    if ((lower_left_corner_x > 0 && lower_left_corner_y > 0) && (upper_right_corner_x > 0 && upper_right_corner_y > 0))\n",
    "    {\n",
    "        check = true;\n",
    "\n",
    "    }\n",
    "    else\n",
    "    {\n",
    "        check = false;\n",
    "    }\n",
    "\n",
    "    return check;\n",
    "}\n",
    "\n",
    "bool output1 = inside(1, 1, 0.3, 0.5, 1.1, 0.7);\n",
    "bool output2 = inside(1, 1, 0.5, 0.2, 1.1, 2);\n",
    "\n",
    "if (output1 == true && output2 == true)\n",
    "{\n",
    "    Console.WriteLine($\"(1,1) lies in both of the given rectangles..\");\n",
    "}\n",
    "else\n",
    "{\n",
    "    Console.WriteLine($\"(1,1) doesn't lie in both of the given rectangles..\");\n",
    "\n",
    "}\n"
   ]
  }
 ],
 "metadata": {
  "kernelspec": {
   "display_name": "Python 3",
   "language": "python",
   "name": "python3"
  },
  "language_info": {
   "codemirror_mode": {
    "name": "ipython",
    "version": 3
   },
   "file_extension": ".py",
   "mimetype": "text/x-python",
   "name": "python",
   "nbconvert_exporter": "python",
   "pygments_lexer": "ipython3",
   "version": "3.11.4"
  }
 },
 "nbformat": 4,
 "nbformat_minor": 2
}
